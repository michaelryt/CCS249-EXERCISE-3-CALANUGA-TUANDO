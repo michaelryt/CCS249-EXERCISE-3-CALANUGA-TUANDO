{
 "cells": [
  {
   "cell_type": "markdown",
   "metadata": {},
   "source": [
    "# Natural Language Processing \n",
    "### Exercise III"
   ]
  },
  {
   "cell_type": "markdown",
   "metadata": {},
   "source": [
    "Gillie S. Calanuga & Michael Rey T. Tuando <br>\n",
    "BSCS 3A"
   ]
  },
  {
   "cell_type": "code",
   "execution_count": 1,
   "metadata": {},
   "outputs": [
    {
     "name": "stderr",
     "output_type": "stream",
     "text": [
      "[nltk_data] Downloading package punkt to C:\\Users\\Michael\n",
      "[nltk_data]     Rey\\AppData\\Roaming\\nltk_data...\n",
      "[nltk_data]   Package punkt is already up-to-date!\n"
     ]
    },
    {
     "data": {
      "text/plain": [
       "True"
      ]
     },
     "execution_count": 1,
     "metadata": {},
     "output_type": "execute_result"
    }
   ],
   "source": [
    "# Import Necessary Libraries\n",
    "import wikipedia\n",
    "import re\n",
    "import math\n",
    "import nltk\n",
    "from nltk import bigrams, trigrams\n",
    "from nltk.tokenize import word_tokenize\n",
    "from collections import Counter\n",
    "\n",
    "# Download necessary NLTK data\n",
    "nltk.download('punkt')"
   ]
  },
  {
   "cell_type": "markdown",
   "metadata": {},
   "source": [
    "1.\t (10 points) Use the Wikipedia python module and access any topic, as you will use that as your corpus, with a word limit of 1000 words."
   ]
  },
  {
   "cell_type": "code",
   "execution_count": 2,
   "metadata": {},
   "outputs": [
    {
     "name": "stdout",
     "output_type": "stream",
     "text": [
      "the people power revolution also known as the edsa revolution or the february revolution were a series of popular demonstrations in the philippines mostly in metro manila from february 22 to 25 1986 there was a sustained campaign of civil resistance against regime violence and electoral fraud the nonviolent revolution led to the departure of ferdinand marcos the end of his 20year dictatorship and the restoration of democracy in the philippines\n",
      "it is also referred to as the yellow revolution due to the presence of yellow ribbons during demonstrations in reference to the tony orlando and dawn song tie a yellow ribbon round the ole oak tree as a symbol of protest following the assassination of filipino senator benigno ninoy aquino jr in august 1983 upon his return to the philippines from exile  it was widely seen as a victory of the people against two decades of presidential rule by president marcos and made news headlines as the revolution that surprised the world\n",
      "t\n"
     ]
    }
   ],
   "source": [
    "# Accessing Wikipedia topic\n",
    "\n",
    "topic = \"EDSA People Power\"\n",
    "\n",
    "# Get the content of a Wikipedia page\n",
    "\n",
    "page = wikipedia.page(topic)\n",
    "text = page.content[:1000]\n",
    "\n",
    "# Remove punctuation and convert to lowercase letters\n",
    "text = re.sub(r'[^\\w\\s]', '', text).lower() \n",
    "\n",
    "# Tokenize the Words\n",
    "tokens = word_tokenize(text)\n",
    "\n",
    "# Print the cleaned content of the page\n",
    "print(text)"
   ]
  },
  {
   "cell_type": "markdown",
   "metadata": {},
   "source": [
    "2.\t(60 points) Train 2 models: a Bigram and Trigram Language Model, use the shared code as reference for bigram modeling, and update it to support trigrams."
   ]
  },
  {
   "cell_type": "code",
   "execution_count": 3,
   "metadata": {},
   "outputs": [
    {
     "name": "stdout",
     "output_type": "stream",
     "text": [
      "Bigram Probabilities: {('the', 'people'): 0.02564102564102564, ('people', 'power'): 0.019801980198019802, ('power', 'revolution'): 0.02, ('revolution', 'also'): 0.01904761904761905, ('also', 'known'): 0.019801980198019802, ('known', 'as'): 0.02, ('as', 'the'): 0.038461538461538464, ('the', 'edsa'): 0.017094017094017096, ('edsa', 'revolution'): 0.02, ('revolution', 'or'): 0.01904761904761905, ('or', 'the'): 0.02, ('the', 'february'): 0.017094017094017096, ('february', 'revolution'): 0.019801980198019802, ('revolution', 'were'): 0.01904761904761905, ('were', 'a'): 0.02, ('a', 'series'): 0.019230769230769232, ('series', 'of'): 0.02, ('of', 'popular'): 0.01834862385321101, ('popular', 'demonstrations'): 0.02, ('demonstrations', 'in'): 0.0297029702970297, ('in', 'the'): 0.028846153846153848, ('the', 'philippines'): 0.03418803418803419, ('philippines', 'mostly'): 0.0196078431372549, ('mostly', 'in'): 0.02, ('in', 'metro'): 0.019230769230769232, ('metro', 'manila'): 0.02, ('manila', 'from'): 0.02, ('from', 'february'): 0.019801980198019802, ('february', '22'): 0.019801980198019802, ('22', 'to'): 0.02, ('to', '25'): 0.01904761904761905, ('25', '1986'): 0.02, ('1986', 'there'): 0.02, ('there', 'was'): 0.02, ('was', 'a'): 0.019801980198019802, ('a', 'sustained'): 0.019230769230769232, ('sustained', 'campaign'): 0.02, ('campaign', 'of'): 0.02, ('of', 'civil'): 0.01834862385321101, ('civil', 'resistance'): 0.02, ('resistance', 'against'): 0.02, ('against', 'regime'): 0.019801980198019802, ('regime', 'violence'): 0.02, ('violence', 'and'): 0.02, ('and', 'electoral'): 0.019417475728155338, ('electoral', 'fraud'): 0.02, ('fraud', 'the'): 0.02, ('the', 'nonviolent'): 0.017094017094017096, ('nonviolent', 'revolution'): 0.02, ('revolution', 'led'): 0.01904761904761905, ('led', 'to'): 0.02, ('to', 'the'): 0.047619047619047616, ('the', 'departure'): 0.017094017094017096, ('departure', 'of'): 0.02, ('of', 'ferdinand'): 0.01834862385321101, ('ferdinand', 'marcos'): 0.02, ('marcos', 'the'): 0.019801980198019802, ('the', 'end'): 0.017094017094017096, ('end', 'of'): 0.02, ('of', 'his'): 0.01834862385321101, ('his', '20year'): 0.019801980198019802, ('20year', 'dictatorship'): 0.02, ('dictatorship', 'and'): 0.02, ('and', 'the'): 0.019417475728155338, ('the', 'restoration'): 0.017094017094017096, ('restoration', 'of'): 0.02, ('of', 'democracy'): 0.01834862385321101, ('democracy', 'in'): 0.02, ('philippines', 'it'): 0.0196078431372549, ('it', 'is'): 0.019801980198019802, ('is', 'also'): 0.02, ('also', 'referred'): 0.019801980198019802, ('referred', 'to'): 0.02, ('to', 'as'): 0.01904761904761905, ('the', 'yellow'): 0.017094017094017096, ('yellow', 'revolution'): 0.0196078431372549, ('revolution', 'due'): 0.01904761904761905, ('due', 'to'): 0.02, ('the', 'presence'): 0.017094017094017096, ('presence', 'of'): 0.02, ('of', 'yellow'): 0.01834862385321101, ('yellow', 'ribbons'): 0.0196078431372549, ('ribbons', 'during'): 0.02, ('during', 'demonstrations'): 0.02, ('in', 'reference'): 0.019230769230769232, ('reference', 'to'): 0.02, ('the', 'tony'): 0.017094017094017096, ('tony', 'orlando'): 0.02, ('orlando', 'and'): 0.02, ('and', 'dawn'): 0.019417475728155338, ('dawn', 'song'): 0.02, ('song', 'tie'): 0.02, ('tie', 'a'): 0.02, ('a', 'yellow'): 0.019230769230769232, ('yellow', 'ribbon'): 0.0196078431372549, ('ribbon', 'round'): 0.02, ('round', 'the'): 0.02, ('the', 'ole'): 0.017094017094017096, ('ole', 'oak'): 0.02, ('oak', 'tree'): 0.02, ('tree', 'as'): 0.02, ('as', 'a'): 0.028846153846153848, ('a', 'symbol'): 0.019230769230769232, ('symbol', 'of'): 0.02, ('of', 'protest'): 0.01834862385321101, ('protest', 'following'): 0.02, ('following', 'the'): 0.02, ('the', 'assassination'): 0.017094017094017096, ('assassination', 'of'): 0.02, ('of', 'filipino'): 0.01834862385321101, ('filipino', 'senator'): 0.02, ('senator', 'benigno'): 0.02, ('benigno', 'ninoy'): 0.02, ('ninoy', 'aquino'): 0.02, ('aquino', 'jr'): 0.02, ('jr', 'in'): 0.02, ('in', 'august'): 0.019230769230769232, ('august', '1983'): 0.02, ('1983', 'upon'): 0.02, ('upon', 'his'): 0.02, ('his', 'return'): 0.019801980198019802, ('return', 'to'): 0.02, ('philippines', 'from'): 0.0196078431372549, ('from', 'exile'): 0.019801980198019802, ('exile', 'it'): 0.02, ('it', 'was'): 0.019801980198019802, ('was', 'widely'): 0.019801980198019802, ('widely', 'seen'): 0.02, ('seen', 'as'): 0.02, ('a', 'victory'): 0.019230769230769232, ('victory', 'of'): 0.02, ('of', 'the'): 0.01834862385321101, ('people', 'against'): 0.019801980198019802, ('against', 'two'): 0.019801980198019802, ('two', 'decades'): 0.02, ('decades', 'of'): 0.02, ('of', 'presidential'): 0.01834862385321101, ('presidential', 'rule'): 0.02, ('rule', 'by'): 0.02, ('by', 'president'): 0.02, ('president', 'marcos'): 0.02, ('marcos', 'and'): 0.019801980198019802, ('and', 'made'): 0.019417475728155338, ('made', 'news'): 0.02, ('news', 'headlines'): 0.02, ('headlines', 'as'): 0.02, ('the', 'revolution'): 0.017094017094017096, ('revolution', 'that'): 0.01904761904761905, ('that', 'surprised'): 0.02, ('surprised', 'the'): 0.02, ('the', 'world'): 0.017094017094017096, ('world', 't'): 0.02}\n"
     ]
    }
   ],
   "source": [
    "# Bigram Probability Models with Laplace Smoothing\n",
    "\n",
    "def bigram_probabilities(tokens, alpha=1):\n",
    "    bigram_counts = Counter(bigrams(tokens))\n",
    "    unigram_counts = Counter(tokens)\n",
    "    \n",
    "    vocab_size = len(unigram_counts)  # Vocabulary size for smoothing\n",
    "    bigram_probs = {\n",
    "        bigram: (count + alpha) / (unigram_counts[bigram[0]] + alpha * vocab_size)\n",
    "        for bigram, count in bigram_counts.items()\n",
    "    }\n",
    "    return bigram_probs\n",
    "\n",
    "print (\"Bigram Probabilities:\",bigram_probabilities(tokens))"
   ]
  },
  {
   "cell_type": "code",
   "execution_count": 4,
   "metadata": {},
   "outputs": [
    {
     "name": "stdout",
     "output_type": "stream",
     "text": [
      "Trigram Probabilities: {('the', 'people', 'power'): 0.012987012987012988, ('people', 'power', 'revolution'): 0.013071895424836602, ('power', 'revolution', 'also'): 0.013071895424836602, ('revolution', 'also', 'known'): 0.013071895424836602, ('also', 'known', 'as'): 0.013071895424836602, ('known', 'as', 'the'): 0.013071895424836602, ('as', 'the', 'edsa'): 0.012903225806451613, ('the', 'edsa', 'revolution'): 0.013071895424836602, ('edsa', 'revolution', 'or'): 0.013071895424836602, ('revolution', 'or', 'the'): 0.013071895424836602, ('or', 'the', 'february'): 0.013071895424836602, ('the', 'february', 'revolution'): 0.013071895424836602, ('february', 'revolution', 'were'): 0.013071895424836602, ('revolution', 'were', 'a'): 0.013071895424836602, ('were', 'a', 'series'): 0.013071895424836602, ('a', 'series', 'of'): 0.013071895424836602, ('series', 'of', 'popular'): 0.013071895424836602, ('of', 'popular', 'demonstrations'): 0.013071895424836602, ('popular', 'demonstrations', 'in'): 0.013071895424836602, ('demonstrations', 'in', 'the'): 0.012987012987012988, ('in', 'the', 'philippines'): 0.01948051948051948, ('the', 'philippines', 'mostly'): 0.012903225806451613, ('philippines', 'mostly', 'in'): 0.013071895424836602, ('mostly', 'in', 'metro'): 0.013071895424836602, ('in', 'metro', 'manila'): 0.013071895424836602, ('metro', 'manila', 'from'): 0.013071895424836602, ('manila', 'from', 'february'): 0.013071895424836602, ('from', 'february', '22'): 0.013071895424836602, ('february', '22', 'to'): 0.013071895424836602, ('22', 'to', '25'): 0.013071895424836602, ('to', '25', '1986'): 0.013071895424836602, ('25', '1986', 'there'): 0.013071895424836602, ('1986', 'there', 'was'): 0.013071895424836602, ('there', 'was', 'a'): 0.013071895424836602, ('was', 'a', 'sustained'): 0.013071895424836602, ('a', 'sustained', 'campaign'): 0.013071895424836602, ('sustained', 'campaign', 'of'): 0.013071895424836602, ('campaign', 'of', 'civil'): 0.013071895424836602, ('of', 'civil', 'resistance'): 0.013071895424836602, ('civil', 'resistance', 'against'): 0.013071895424836602, ('resistance', 'against', 'regime'): 0.013071895424836602, ('against', 'regime', 'violence'): 0.013071895424836602, ('regime', 'violence', 'and'): 0.013071895424836602, ('violence', 'and', 'electoral'): 0.013071895424836602, ('and', 'electoral', 'fraud'): 0.013071895424836602, ('electoral', 'fraud', 'the'): 0.013071895424836602, ('fraud', 'the', 'nonviolent'): 0.013071895424836602, ('the', 'nonviolent', 'revolution'): 0.013071895424836602, ('nonviolent', 'revolution', 'led'): 0.013071895424836602, ('revolution', 'led', 'to'): 0.013071895424836602, ('led', 'to', 'the'): 0.013071895424836602, ('to', 'the', 'departure'): 0.01282051282051282, ('the', 'departure', 'of'): 0.013071895424836602, ('departure', 'of', 'ferdinand'): 0.013071895424836602, ('of', 'ferdinand', 'marcos'): 0.013071895424836602, ('ferdinand', 'marcos', 'the'): 0.013071895424836602, ('marcos', 'the', 'end'): 0.013071895424836602, ('the', 'end', 'of'): 0.013071895424836602, ('end', 'of', 'his'): 0.013071895424836602, ('of', 'his', '20year'): 0.013071895424836602, ('his', '20year', 'dictatorship'): 0.013071895424836602, ('20year', 'dictatorship', 'and'): 0.013071895424836602, ('dictatorship', 'and', 'the'): 0.013071895424836602, ('and', 'the', 'restoration'): 0.013071895424836602, ('the', 'restoration', 'of'): 0.013071895424836602, ('restoration', 'of', 'democracy'): 0.013071895424836602, ('of', 'democracy', 'in'): 0.013071895424836602, ('democracy', 'in', 'the'): 0.013071895424836602, ('the', 'philippines', 'it'): 0.012903225806451613, ('philippines', 'it', 'is'): 0.013071895424836602, ('it', 'is', 'also'): 0.013071895424836602, ('is', 'also', 'referred'): 0.013071895424836602, ('also', 'referred', 'to'): 0.013071895424836602, ('referred', 'to', 'as'): 0.013071895424836602, ('to', 'as', 'the'): 0.013071895424836602, ('as', 'the', 'yellow'): 0.012903225806451613, ('the', 'yellow', 'revolution'): 0.013071895424836602, ('yellow', 'revolution', 'due'): 0.013071895424836602, ('revolution', 'due', 'to'): 0.013071895424836602, ('due', 'to', 'the'): 0.013071895424836602, ('to', 'the', 'presence'): 0.01282051282051282, ('the', 'presence', 'of'): 0.013071895424836602, ('presence', 'of', 'yellow'): 0.013071895424836602, ('of', 'yellow', 'ribbons'): 0.013071895424836602, ('yellow', 'ribbons', 'during'): 0.013071895424836602, ('ribbons', 'during', 'demonstrations'): 0.013071895424836602, ('during', 'demonstrations', 'in'): 0.013071895424836602, ('demonstrations', 'in', 'reference'): 0.012987012987012988, ('in', 'reference', 'to'): 0.013071895424836602, ('reference', 'to', 'the'): 0.013071895424836602, ('to', 'the', 'tony'): 0.01282051282051282, ('the', 'tony', 'orlando'): 0.013071895424836602, ('tony', 'orlando', 'and'): 0.013071895424836602, ('orlando', 'and', 'dawn'): 0.013071895424836602, ('and', 'dawn', 'song'): 0.013071895424836602, ('dawn', 'song', 'tie'): 0.013071895424836602, ('song', 'tie', 'a'): 0.013071895424836602, ('tie', 'a', 'yellow'): 0.013071895424836602, ('a', 'yellow', 'ribbon'): 0.013071895424836602, ('yellow', 'ribbon', 'round'): 0.013071895424836602, ('ribbon', 'round', 'the'): 0.013071895424836602, ('round', 'the', 'ole'): 0.013071895424836602, ('the', 'ole', 'oak'): 0.013071895424836602, ('ole', 'oak', 'tree'): 0.013071895424836602, ('oak', 'tree', 'as'): 0.013071895424836602, ('tree', 'as', 'a'): 0.013071895424836602, ('as', 'a', 'symbol'): 0.012987012987012988, ('a', 'symbol', 'of'): 0.013071895424836602, ('symbol', 'of', 'protest'): 0.013071895424836602, ('of', 'protest', 'following'): 0.013071895424836602, ('protest', 'following', 'the'): 0.013071895424836602, ('following', 'the', 'assassination'): 0.013071895424836602, ('the', 'assassination', 'of'): 0.013071895424836602, ('assassination', 'of', 'filipino'): 0.013071895424836602, ('of', 'filipino', 'senator'): 0.013071895424836602, ('filipino', 'senator', 'benigno'): 0.013071895424836602, ('senator', 'benigno', 'ninoy'): 0.013071895424836602, ('benigno', 'ninoy', 'aquino'): 0.013071895424836602, ('ninoy', 'aquino', 'jr'): 0.013071895424836602, ('aquino', 'jr', 'in'): 0.013071895424836602, ('jr', 'in', 'august'): 0.013071895424836602, ('in', 'august', '1983'): 0.013071895424836602, ('august', '1983', 'upon'): 0.013071895424836602, ('1983', 'upon', 'his'): 0.013071895424836602, ('upon', 'his', 'return'): 0.013071895424836602, ('his', 'return', 'to'): 0.013071895424836602, ('return', 'to', 'the'): 0.013071895424836602, ('to', 'the', 'philippines'): 0.01282051282051282, ('the', 'philippines', 'from'): 0.012903225806451613, ('philippines', 'from', 'exile'): 0.013071895424836602, ('from', 'exile', 'it'): 0.013071895424836602, ('exile', 'it', 'was'): 0.013071895424836602, ('it', 'was', 'widely'): 0.013071895424836602, ('was', 'widely', 'seen'): 0.013071895424836602, ('widely', 'seen', 'as'): 0.013071895424836602, ('seen', 'as', 'a'): 0.013071895424836602, ('as', 'a', 'victory'): 0.012987012987012988, ('a', 'victory', 'of'): 0.013071895424836602, ('victory', 'of', 'the'): 0.013071895424836602, ('of', 'the', 'people'): 0.013071895424836602, ('the', 'people', 'against'): 0.012987012987012988, ('people', 'against', 'two'): 0.013071895424836602, ('against', 'two', 'decades'): 0.013071895424836602, ('two', 'decades', 'of'): 0.013071895424836602, ('decades', 'of', 'presidential'): 0.013071895424836602, ('of', 'presidential', 'rule'): 0.013071895424836602, ('presidential', 'rule', 'by'): 0.013071895424836602, ('rule', 'by', 'president'): 0.013071895424836602, ('by', 'president', 'marcos'): 0.013071895424836602, ('president', 'marcos', 'and'): 0.013071895424836602, ('marcos', 'and', 'made'): 0.013071895424836602, ('and', 'made', 'news'): 0.013071895424836602, ('made', 'news', 'headlines'): 0.013071895424836602, ('news', 'headlines', 'as'): 0.013071895424836602, ('headlines', 'as', 'the'): 0.013071895424836602, ('as', 'the', 'revolution'): 0.012903225806451613, ('the', 'revolution', 'that'): 0.013071895424836602, ('revolution', 'that', 'surprised'): 0.013071895424836602, ('that', 'surprised', 'the'): 0.013071895424836602, ('surprised', 'the', 'world'): 0.013071895424836602, ('the', 'world', 't'): 0.013071895424836602}\n"
     ]
    }
   ],
   "source": [
    "# Trigram Probability Models with Laplace Smoothing\n",
    "\n",
    "def trigram_probabilities(tokens, alpha=1):\n",
    "    trigram_counts = Counter(trigrams(tokens))\n",
    "    bigram_counts = Counter(zip(tokens, tokens[1:]))\n",
    "    \n",
    "    vocab_size = len(bigram_counts)  # Vocabulary size for smoothing\n",
    "    trigram_probs = {\n",
    "        trigram: (count + alpha) / (bigram_counts[(trigram[0], trigram[1])] + alpha * vocab_size)\n",
    "        for trigram, count in trigram_counts.items()\n",
    "    }\n",
    "    return trigram_probs\n",
    "\n",
    "print (\"Trigram Probabilities:\",trigram_probabilities(tokens))\n"
   ]
  },
  {
   "cell_type": "code",
   "execution_count": 5,
   "metadata": {},
   "outputs": [],
   "source": [
    "# Compute probability distributions\n",
    "\n",
    "wiki_bigram = bigram_probabilities(tokens)\n",
    "wiki_trigram = trigram_probabilities(tokens)"
   ]
  },
  {
   "cell_type": "code",
   "execution_count": 6,
   "metadata": {},
   "outputs": [
    {
     "name": "stdout",
     "output_type": "stream",
     "text": [
      "Test Sentence: The EDSA People Power Revolution was a peaceful uprising in 1986 that led to the restoration of democracy in the Philippines\n"
     ]
    }
   ],
   "source": [
    "# Test Sentence\n",
    "test_sentence = \"The EDSA People Power Revolution was a peaceful uprising in 1986 that led to the restoration of democracy in the Philippines\"\n",
    "print(\"Test Sentence:\", test_sentence)"
   ]
  },
  {
   "cell_type": "markdown",
   "metadata": {},
   "source": [
    "3.\t(30 points) Using a test sentence “The quick brown fox jumps over the lazy dog near the bank of the river.” OR generate your own test sentence, create a function that will determine the perplexity score for each trained model."
   ]
  },
  {
   "cell_type": "code",
   "execution_count": 7,
   "metadata": {},
   "outputs": [
    {
     "name": "stdout",
     "output_type": "stream",
     "text": [
      "Calculate Bigram Probabilities: 31.737510186168404\n"
     ]
    }
   ],
   "source": [
    "# Bigram Perplexity Computation using Log Probabilities\n",
    "\n",
    "def calculate_bigram_perplexity(bigram_probs, test_sentence, alpha=1):\n",
    "    test_tokens = word_tokenize(test_sentence.lower())\n",
    "    test_bigrams = list(bigrams(test_tokens))\n",
    "    \n",
    "    N = len(test_bigrams)\n",
    "    log_prob_sum = 0\n",
    "    vocab_size = len(set(test_tokens))  # Use test set vocab size for smoothing\n",
    "    \n",
    "    for bigram in test_bigrams:\n",
    "        prob = bigram_probs.get(bigram, alpha / (1 + alpha * vocab_size))  # Laplace smoothing for unknown bigrams\n",
    "        log_prob_sum += math.log2(prob)\n",
    "    \n",
    "    return math.pow(2, -log_prob_sum / N) if N > 0 else float('inf')  # Avoid division by zero\n",
    "\n",
    "print (\"Calculate Bigram Probabilities:\",calculate_bigram_perplexity(wiki_bigram,test_sentence))\n"
   ]
  },
  {
   "cell_type": "code",
   "execution_count": 8,
   "metadata": {},
   "outputs": [
    {
     "name": "stdout",
     "output_type": "stream",
     "text": [
      "Calculate Trigram Probabilities: 232.03266711889697\n"
     ]
    }
   ],
   "source": [
    "# Trigram Perplexity Computation using Log Probabilities\n",
    "\n",
    "def calculate_trigram_perplexity(trigram_probs, test_sentence, alpha=1):\n",
    "    test_tokens = word_tokenize(test_sentence.lower())\n",
    "    test_trigrams = list(trigrams(test_tokens))\n",
    "    \n",
    "    N = len(test_trigrams)\n",
    "    log_prob_sum = 0\n",
    "    vocab_size = len(set(test_tokens))\n",
    "    \n",
    "    for trigram in test_trigrams:\n",
    "        prob = trigram_probs.get(trigram, alpha / (1 + alpha * vocab_size))  # Laplace smoothing\n",
    "        log_prob_sum += math.log2(prob)\n",
    "    \n",
    "    return math.pow(3, -log_prob_sum / N) if N > 0 else float('inf')  # Avoid division by zero\n",
    "\n",
    "print (\"Calculate Trigram Probabilities:\",calculate_trigram_perplexity(wiki_trigram,test_sentence))\n"
   ]
  },
  {
   "cell_type": "code",
   "execution_count": 9,
   "metadata": {},
   "outputs": [],
   "source": [
    "# Compute perplexities\n",
    "\n",
    "bigram_perplexity_score = calculate_bigram_perplexity(wiki_bigram, test_sentence)\n",
    "trigram_perplexity_score = calculate_trigram_perplexity(wiki_trigram, test_sentence)"
   ]
  },
  {
   "cell_type": "code",
   "execution_count": 10,
   "metadata": {},
   "outputs": [
    {
     "name": "stdout",
     "output_type": "stream",
     "text": [
      "Bigram Model Perplexity -> The EDSA People Power Revolution was a peaceful uprising in 1986 that led to the restoration of democracy in the Philippines\n",
      "Score: 31.737510186168404\n",
      "Trigram Model Perplexity -> The EDSA People Power Revolution was a peaceful uprising in 1986 that led to the restoration of democracy in the Philippines\n",
      "Score: 232.03266711889697\n"
     ]
    }
   ],
   "source": [
    "# Print results\n",
    "\n",
    "print(\"Bigram Model Perplexity -> \"f'{test_sentence}')\n",
    "print(\"Score:\", bigram_perplexity_score)\n",
    "print(\"Trigram Model Perplexity -> \"f'{test_sentence}')\n",
    "print(\"Score:\", trigram_perplexity_score)"
   ]
  }
 ],
 "metadata": {
  "kernelspec": {
   "display_name": "Python 3",
   "language": "python",
   "name": "python3"
  },
  "language_info": {
   "codemirror_mode": {
    "name": "ipython",
    "version": 3
   },
   "file_extension": ".py",
   "mimetype": "text/x-python",
   "name": "python",
   "nbconvert_exporter": "python",
   "pygments_lexer": "ipython3",
   "version": "3.13.1"
  }
 },
 "nbformat": 4,
 "nbformat_minor": 2
}
